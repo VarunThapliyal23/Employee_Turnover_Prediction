{
  "nbformat": 4,
  "nbformat_minor": 0,
  "metadata": {
    "colab": {
      "provenance": [],
      "include_colab_link": true
    },
    "kernelspec": {
      "name": "python3",
      "display_name": "Python 3"
    }
  },
  "cells": [
    {
      "cell_type": "markdown",
      "metadata": {
        "id": "view-in-github",
        "colab_type": "text"
      },
      "source": [
        "<a href=\"https://colab.research.google.com/github/VarunThapliyal23/Employee_Turnover_Prediction/blob/main/Anvil_Deploy.ipynb\" target=\"_parent\"><img src=\"https://colab.research.google.com/assets/colab-badge.svg\" alt=\"Open In Colab\"/></a>"
      ]
    },
    {
      "cell_type": "code",
      "metadata": {
        "id": "5ek2dcN7Krtq",
        "colab": {
          "base_uri": "https://localhost:8080/",
          "height": 259
        },
        "outputId": "ef08d671-fb9b-4d23-c1a5-83f53be8cf7b"
      },
      "source": [
        "pip install anvil-uplink"
      ],
      "execution_count": 1,
      "outputs": [
        {
          "output_type": "stream",
          "name": "stdout",
          "text": [
            "Looking in indexes: https://pypi.org/simple, https://us-python.pkg.dev/colab-wheels/public/simple/\n",
            "Requirement already satisfied: anvil-uplink in /usr/local/lib/python3.7/dist-packages (0.4.1)\n",
            "Requirement already satisfied: ws4py in /usr/local/lib/python3.7/dist-packages (from anvil-uplink) (0.5.1)\n",
            "Requirement already satisfied: six in /usr/local/lib/python3.7/dist-packages (from anvil-uplink) (1.15.0)\n",
            "Collecting argparse\n",
            "  Using cached argparse-1.4.0-py2.py3-none-any.whl (23 kB)\n",
            "Requirement already satisfied: future in /usr/local/lib/python3.7/dist-packages (from anvil-uplink) (0.16.0)\n",
            "Installing collected packages: argparse\n",
            "Successfully installed argparse-1.4.0\n"
          ]
        },
        {
          "output_type": "display_data",
          "data": {
            "application/vnd.colab-display-data+json": {
              "pip_warning": {
                "packages": [
                  "argparse"
                ]
              }
            }
          },
          "metadata": {}
        }
      ]
    },
    {
      "cell_type": "code",
      "metadata": {
        "id": "Wd7PA2RsNimJ"
      },
      "source": [
        "import pickle\n",
        "with open('varun_model_pickle','rb') as file:\n",
        "    varun_model= pickle.load(file)"
      ],
      "execution_count": 2,
      "outputs": []
    },
    {
      "cell_type": "code",
      "metadata": {
        "id": "hCtNPRVqKyBO",
        "colab": {
          "base_uri": "https://localhost:8080/"
        },
        "outputId": "9b87f703-66d5-4962-a8ad-6df65cb27e1e"
      },
      "source": [
        "import anvil.server\n",
        "\n",
        "anvil.server.connect(\"KWOQVHGDRYPKCEI3C2YZYVUH-5MBLKQSGXCIBX5I7\")"
      ],
      "execution_count": 3,
      "outputs": [
        {
          "output_type": "stream",
          "name": "stdout",
          "text": [
            "Connecting to wss://anvil.works/uplink\n",
            "Anvil websocket open\n",
            "Connected to \"Default environment\" as SERVER\n"
          ]
        }
      ]
    },
    {
      "cell_type": "code",
      "metadata": {
        "id": "wpiMcKSAdeve",
        "colab": {
          "base_uri": "https://localhost:8080/"
        },
        "outputId": "feb62ec2-ace0-4ea3-d805-c079e17b6a7c"
      },
      "source": [
        "varun_model.predict([[1.0,0.61,3,188,4,0,0,1,0,0,0,0,0,1,0,0,0]])"
      ],
      "execution_count": 4,
      "outputs": [
        {
          "output_type": "stream",
          "name": "stderr",
          "text": [
            "/usr/local/lib/python3.7/dist-packages/sklearn/base.py:451: UserWarning: X does not have valid feature names, but RandomForestClassifier was fitted with feature names\n",
            "  \"X does not have valid feature names, but\"\n"
          ]
        },
        {
          "output_type": "execute_result",
          "data": {
            "text/plain": [
              "array([0])"
            ]
          },
          "metadata": {},
          "execution_count": 4
        }
      ]
    },
    {
      "cell_type": "code",
      "metadata": {
        "id": "fcOvXscdWNtV",
        "colab": {
          "base_uri": "https://localhost:8080/"
        },
        "outputId": "9f6d24a3-acf3-491c-f2a0-4ee3efd62858"
      },
      "source": [
        "varun_model.predict([[0.10,0.60,6,288,2,0,0,1,0,0,1,0,0,0,0,0,0]])"
      ],
      "execution_count": 5,
      "outputs": [
        {
          "output_type": "stream",
          "name": "stderr",
          "text": [
            "/usr/local/lib/python3.7/dist-packages/sklearn/base.py:451: UserWarning: X does not have valid feature names, but RandomForestClassifier was fitted with feature names\n",
            "  \"X does not have valid feature names, but\"\n"
          ]
        },
        {
          "output_type": "execute_result",
          "data": {
            "text/plain": [
              "array([1])"
            ]
          },
          "metadata": {},
          "execution_count": 5
        }
      ]
    },
    {
      "cell_type": "code",
      "metadata": {
        "id": "PAw1BKeooD6x"
      },
      "source": [
        "@anvil.server.callable\n",
        "\n",
        "def get_data(a,b,c,d,e,f,g,h,i):\n",
        "  if ( (int(d)<95 or int(d)>400) or (float(b)<0.1 or float(b)>1)  or (float(a)<0.1 or float(a)>1 )):\n",
        "    return (\"make sure your input are in range \\n Satisfaction_level = {0.1 - 1} \\n Last_evaluation = {0.1 - 1}\t\\n Average_montly_hours = {95 - 400}\")\n",
        "  else:\n",
        "    if h==\"technical\" : \n",
        "      score=varun_model.predict([[a,b,int(c),d,int(e),int(f),int(g),int(i),0,0,0,0,0,0,0,0,1]])\n",
        "    elif h==\"RandD\" :\n",
        "      score=varun_model.predict([[a,b,int(c),d,int(e),int(f),int(g),int(i),1,0,0,0,0,0,0,0,0]])\n",
        "    elif h==\"accounting\" :\n",
        "      score=varun_model.predict([[a,b,int(c),d,int(e),int(f),int(g),int(i),0,1,0,0,0,0,0,0,0]])\n",
        "    elif h==\"HR\" :\n",
        "      score=varun_model.predict([[a,b,int(c),d,int(e),int(f),int(g),int(i),0,0,1,0,0,0,0,0,0]])\n",
        "    elif h==\"management\" :\n",
        "      score=varun_model.predict([[a,b,int(c),d,int(e),int(f),int(g),int(i),0,0,0,1,0,0,0,0,0]])\n",
        "    elif h==\"marketing\":\n",
        "      score=varun_model.predict([[a,b,int(c),d,int(e),int(f),int(g),int(i),0,0,0,0,1,0,0,0,0]])\n",
        "    elif h==\"product_mng\":\n",
        "      score=varun_model.predict([[a,b,int(c),d,int(e),int(f),int(g),int(i),0,0,0,0,0,1,0,0,0]])\n",
        "    elif h==\"sales\" :\n",
        "      score=varun_model.predict([[a,b,int(c),d,int(e),int(f),int(g),int(i),0,0,0,0,0,0,1,0,0]])\n",
        "    elif h==\"support\":\n",
        "      score=varun_model.predict([[a,b,int(c),d,int(e),int(f),int(g),int(i),0,0,0,0,0,0,0,1,0]])\n",
        "    elif h==\"IT\":\n",
        "      score=varun_model.predict([[a,b,int(c),d,int(e),int(f),int(g),int(i),0,0,0,0,0,0,0,0,0]])\n",
        "    else:\n",
        "      score=7\n",
        "\n",
        "    result=score\n",
        "    if result==1:\n",
        "      return ('This employee will leave your Company [1]')\n",
        "    elif result==0:\n",
        "      return (\"This employee will not leave your Company [0]\")\n",
        "    elif result==7:\n",
        "      return (\"wrong input\")\n",
        "\n"
      ],
      "execution_count": 6,
      "outputs": []
    }
  ]
}